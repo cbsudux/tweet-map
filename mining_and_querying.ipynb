{
 "cells": [
  {
   "cell_type": "code",
   "execution_count": 2,
   "metadata": {},
   "outputs": [],
   "source": [
    "from tweepy import Stream\n",
    "from tweepy.streaming import StreamListener\n",
    "import tweepy\n",
    "from tweepy import OAuthHandler\n",
    "import json\n",
    "from pymongo import MongoClient\n",
    "import pandas as pd\n",
    "\n",
    "\n",
    "consumer_key = '...'\n",
    "consumer_secret = '...'\n",
    "access_token = '...'\n",
    "access_secret = '...'\n",
    "\n",
    "auth = OAuthHandler(consumer_key,consumer_secret)\n",
    "auth.set_access_token(access_token,access_secret)"
   ]
  },
  {
   "cell_type": "code",
   "execution_count": null,
   "metadata": {},
   "outputs": [],
   "source": [
    "# listener class \n",
    "\n",
    "class listener(StreamListener):\n",
    "\n",
    "    def on_data(self, data):\n",
    "\n",
    "        try:\n",
    "            print('Hi')\n",
    "            tweet = json.loads(data)\n",
    "\n",
    "            collection.insert(tweet)\n",
    "\n",
    "            return True\n",
    "\n",
    "\n",
    "        except BaseException as e:\n",
    "            print(\"Error on_data: %s\" % str(e))\n",
    "            time.sleep(5)\n",
    "            pass\n",
    "\n",
    "\n",
    "\n",
    "    def on_error(self, status):\n",
    "\n",
    "        print (status)\n",
    "\n",
    "# Setting up database\n",
    "client = MongoClient()\n",
    "db = client.barca_tweets\n",
    "collection = db.twitter_collection\n",
    "\n",
    "keyword_list = ['#barca','#barcelona','barca']#track list\n",
    "\n",
    "twitterStream = Stream(auth, listener()) #initialize Stream object with a time out limit\n",
    "twitterStream.filter(track=keyword_list, languages=['en'])  #call the filter method to run the Stream Listener\n"
   ]
  },
  {
   "cell_type": "code",
   "execution_count": 27,
   "metadata": {
    "scrolled": true
   },
   "outputs": [],
   "source": [
    "# Querying for location from DB\n",
    "\n",
    "client = MongoClient()\n",
    "db = client.barca_tweets\n",
    "collection = db.twitter_collection\n",
    "loc = []\n",
    "tweets_iterator = collection.find()\n",
    "for tweet in tweets_iterator:\n",
    "    loc.append(tweet['user']['location'])\n",
    "    \n",
    "# loc is list of locations of all tweets    \n",
    "    "
   ]
  },
  {
   "cell_type": "code",
   "execution_count": null,
   "metadata": {},
   "outputs": [],
   "source": [
    "# Creating a dataframe with the list\n",
    "\n",
    "df = pd.DataFrame(loc,columns = ['location'])\n",
    "df.to_csv('temporary.csv')# Put this in a separate python file and import "
   ]
  }
 ],
 "metadata": {
  "kernelspec": {
   "display_name": "Python 3",
   "language": "python",
   "name": "python3"
  },
  "language_info": {
   "codemirror_mode": {
    "name": "ipython",
    "version": 3
   },
   "file_extension": ".py",
   "mimetype": "text/x-python",
   "name": "python",
   "nbconvert_exporter": "python",
   "pygments_lexer": "ipython3",
   "version": "3.5.2"
  }
 },
 "nbformat": 4,
 "nbformat_minor": 2
}
